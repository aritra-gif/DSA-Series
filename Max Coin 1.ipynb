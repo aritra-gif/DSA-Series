'''Nitin is an explorer, and he has a map that consists of n houses along a coastline of a beach. Each house has a certain amount of money stashed. The only constraint stopping Nitin from getting each of them is that adjacent houses have security systems connected, and it will automatically contact the police if two adjacent houses were broken into on the same night.
Given an integer array nums representing the amount of money in each house, return the maximum amount of money Nitin can rob tonight without alerting the police.

Note: Try to see if you can solve using brute force first then optimize your solution
Input Format:
    The first line contains an integer N representing the number of houses.
    The second line contains N space-separated integers representing the amount of money in each house.
Output Format:
    A single integer denoting the maximum amount of money Nitin can rob without alerting the police.
Sample Input 1:
4
1 2 3 1
Sample Output 1:
4
Explanation:
    Nitin can rob the 1st and 3rd houses, obtaining a total of 1 + 3 = 4.
Sample Input 2:
5
2 7 9 3 1
Sample Output 2:
12
Explanation:
    Nitin can rob the 1st, 3rd, and 5th houses, obtaining a total of 2 + 9 + 1 = 12.
Constraints:
    (1 <= nums.length <= 10^7)
    (0 <= nums[i] <= 400)

Note: The function should return the result.'''



#Code


class Solution:
  def maxCoinsI(self, n, arr):
      #Write your code here
      if n == 0:
          return 0
      if n == 1:
          return arr[0]
      if n == 2:
          return max(arr[0], arr[1])

      dp = [0] * n
      dp[0] = arr[0]
      dp[1] = max(arr[0], arr[1])

      for i in range(2, n):
          dp[i] = max(dp[i - 1], dp[i - 2] + arr[i])

      return dp[n - 1]
    


